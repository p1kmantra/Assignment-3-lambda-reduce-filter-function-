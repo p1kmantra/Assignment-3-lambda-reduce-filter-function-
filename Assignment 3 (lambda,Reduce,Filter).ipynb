{
 "cells": [
  {
   "cell_type": "markdown",
   "id": "a9588b41-932c-4f1f-80ae-26b5d19d16ed",
   "metadata": {},
   "source": [
    "Q.1.Ceart a python program to sort the given list of tuples based on integer value using a lambda function.\n",
    "\n",
    " [('shachin tendulkar',34357),('Ricky Ponting',27483),('Jack Kallis',25534),('Virat Kohli',24936)]"
   ]
  },
  {
   "cell_type": "code",
   "execution_count": 49,
   "id": "38429e92-4323-4c44-b886-b4d43e2faf37",
   "metadata": {},
   "outputs": [],
   "source": [
    "d={'shachin tendulkar':34357,'Ricky Ponting':27483,'Jack Kallis':25534,'Virat Kohli':24936}\n"
   ]
  },
  {
   "cell_type": "code",
   "execution_count": 50,
   "id": "8840a1a3-cdf9-4f25-baf7-68bd7592f119",
   "metadata": {},
   "outputs": [
    {
     "data": {
      "text/plain": [
       "[34357, 27483, 25534, 24936]"
      ]
     },
     "execution_count": 50,
     "metadata": {},
     "output_type": "execute_result"
    }
   ],
   "source": [
    "list(d.values())"
   ]
  },
  {
   "cell_type": "code",
   "execution_count": 30,
   "id": "bc60ff16-a7af-4cc3-bab0-9ead90b7dbf3",
   "metadata": {},
   "outputs": [],
   "source": [
    "for i in l:\n",
    "    if type (i)==int or type (i)==float:\n",
    "        print(i)"
   ]
  },
  {
   "cell_type": "code",
   "execution_count": 31,
   "id": "645159b3-735e-431a-83ba-f9207a0a8f02",
   "metadata": {},
   "outputs": [
    {
     "data": {
      "text/plain": [
       "{'shachin tendulkar': 34357,\n",
       " 'Ricky Ponting': 27483,\n",
       " 'Jack Kallis': 25534,\n",
       " 'Virat Kohli': 24936}"
      ]
     },
     "execution_count": 31,
     "metadata": {},
     "output_type": "execute_result"
    }
   ],
   "source": [
    "l"
   ]
  },
  {
   "cell_type": "code",
   "execution_count": 10,
   "id": "3adc6d68-7d76-4be8-aba0-7bf30952e468",
   "metadata": {},
   "outputs": [],
   "source": [
    "l=[('shachin_tendulkar',34357),('Ricky_Ponting',27483),('Jack_Kallis',25534),('Virat_Kohli',24936)]"
   ]
  },
  {
   "cell_type": "code",
   "execution_count": 11,
   "id": "9ad9fa9c-4bc8-4371-b867-288dc5f4d2dc",
   "metadata": {},
   "outputs": [],
   "source": [
    "a=lambda x: x[1]"
   ]
  },
  {
   "cell_type": "code",
   "execution_count": 12,
   "id": "6f671343-8723-4b75-bf90-aa5a94b009ec",
   "metadata": {},
   "outputs": [
    {
     "ename": "NameError",
     "evalue": "name 'x' is not defined",
     "output_type": "error",
     "traceback": [
      "\u001b[0;31m---------------------------------------------------------------------------\u001b[0m",
      "\u001b[0;31mNameError\u001b[0m                                 Traceback (most recent call last)",
      "Cell \u001b[0;32mIn[12], line 1\u001b[0m\n\u001b[0;32m----> 1\u001b[0m a(\u001b[43mx\u001b[49m)\n",
      "\u001b[0;31mNameError\u001b[0m: name 'x' is not defined"
     ]
    }
   ],
   "source": [
    "a(x)"
   ]
  },
  {
   "cell_type": "code",
   "execution_count": null,
   "id": "f2b24841-722f-44bb-a4c8-f6ad2adf1b19",
   "metadata": {},
   "outputs": [],
   "source": []
  },
  {
   "cell_type": "markdown",
   "id": "019d5b65-9e82-4d80-8b71-8e4df5407053",
   "metadata": {},
   "source": [
    "Q.2.Write a python program to find out the squres of all the numbers in the given list of integers using lambda abd map functiion.\n",
    "[1,2,3,4,5,6,7,8.9,10]"
   ]
  },
  {
   "cell_type": "code",
   "execution_count": 1,
   "id": "0784185a-b23f-481e-a77f-11c1c6722a33",
   "metadata": {},
   "outputs": [],
   "source": [
    "l=[1,2,3,4,5,6,7,8,9,10]"
   ]
  },
  {
   "cell_type": "code",
   "execution_count": 2,
   "id": "190592c4-9038-4947-8e89-2c8fd9725f57",
   "metadata": {},
   "outputs": [
    {
     "data": {
      "text/plain": [
       "[1, 4, 9, 16, 25, 36, 49, 64, 81, 100]"
      ]
     },
     "execution_count": 2,
     "metadata": {},
     "output_type": "execute_result"
    }
   ],
   "source": [
    "list(map(lambda x:x**2,l))"
   ]
  },
  {
   "cell_type": "code",
   "execution_count": null,
   "id": "c54038c9-251d-43e9-a38c-87b03d3c3bba",
   "metadata": {},
   "outputs": [],
   "source": []
  },
  {
   "cell_type": "markdown",
   "id": "cb41dfcc-0d22-496f-8748-083943355db5",
   "metadata": {},
   "source": [
    "Q.3.Write a Python program to convert the given list of integers into a tuple of strings .Use map and lambda function\n",
    "Given string:[1,2,3,4,5,6,7,8,8,9,10]\n",
    "expected output['1','2','3','4','5','6','7','8','9','10']"
   ]
  },
  {
   "cell_type": "code",
   "execution_count": 55,
   "id": "a4361a99-d92a-4896-8ea7-12774da44b54",
   "metadata": {},
   "outputs": [],
   "source": [
    "l=[1,2,3,4,5,6,7,8,9,10]"
   ]
  },
  {
   "cell_type": "code",
   "execution_count": 15,
   "id": "f6f9cfb6-fc5a-4230-b206-8a4fc92865ba",
   "metadata": {},
   "outputs": [
    {
     "data": {
      "text/plain": [
       "['1', '2', '3', '4', '5', '6', '7', '8', '9', '10']"
      ]
     },
     "execution_count": 15,
     "metadata": {},
     "output_type": "execute_result"
    }
   ],
   "source": [
    "list(map(lambda x:str(x) ,l))"
   ]
  },
  {
   "cell_type": "code",
   "execution_count": null,
   "id": "4061f2a9-9a93-437c-97f2-20f6087bc157",
   "metadata": {},
   "outputs": [],
   "source": []
  },
  {
   "cell_type": "markdown",
   "id": "8a32ea7a-6ffa-440f-8950-84d05f20f6e2",
   "metadata": {},
   "source": [
    "Q.4.Write a Python program using reduce function to compute the product of of a list containing numbers from 1 to 25"
   ]
  },
  {
   "cell_type": "code",
   "execution_count": 17,
   "id": "557da588-e2b2-457f-bb88-2653a9c18cb1",
   "metadata": {},
   "outputs": [],
   "source": [
    "from functools import reduce"
   ]
  },
  {
   "cell_type": "code",
   "execution_count": 42,
   "id": "5999520f-841d-4291-ab0a-ec02380a5ed2",
   "metadata": {},
   "outputs": [],
   "source": [
    "l1=range(1,26)"
   ]
  },
  {
   "cell_type": "code",
   "execution_count": 43,
   "id": "78c00007-07d1-4516-b646-0fddffabce97",
   "metadata": {},
   "outputs": [
    {
     "data": {
      "text/plain": [
       "range(1, 26)"
      ]
     },
     "execution_count": 43,
     "metadata": {},
     "output_type": "execute_result"
    }
   ],
   "source": [
    "l1"
   ]
  },
  {
   "cell_type": "code",
   "execution_count": 44,
   "id": "1727e3a4-318c-4b8a-a8b7-b0fd1c80c691",
   "metadata": {},
   "outputs": [
    {
     "data": {
      "text/plain": [
       "325"
      ]
     },
     "execution_count": 44,
     "metadata": {},
     "output_type": "execute_result"
    }
   ],
   "source": [
    "reduce(lambda x,y :x+y ,l1)"
   ]
  },
  {
   "cell_type": "code",
   "execution_count": 45,
   "id": "372edf3c-8af6-4145-91d3-4861be529876",
   "metadata": {},
   "outputs": [
    {
     "data": {
      "text/plain": [
       "15511210043330985984000000"
      ]
     },
     "execution_count": 45,
     "metadata": {},
     "output_type": "execute_result"
    }
   ],
   "source": [
    "reduce(lambda x,y:x*y ,l1)"
   ]
  },
  {
   "cell_type": "code",
   "execution_count": 47,
   "id": "03d0f87e-9eb6-4e07-97e4-35f279a06d7e",
   "metadata": {},
   "outputs": [
    {
     "data": {
      "text/plain": [
       "25"
      ]
     },
     "execution_count": 47,
     "metadata": {},
     "output_type": "execute_result"
    }
   ],
   "source": [
    "reduce(lambda x,y :x if x>y else y,l1)"
   ]
  },
  {
   "cell_type": "code",
   "execution_count": 48,
   "id": "0e5b589f-77e6-492b-957c-5f1adf2b8801",
   "metadata": {},
   "outputs": [
    {
     "data": {
      "text/plain": [
       "1"
      ]
     },
     "execution_count": 48,
     "metadata": {},
     "output_type": "execute_result"
    }
   ],
   "source": [
    "reduce(lambda x,y :x if x<y else y ,l1)"
   ]
  },
  {
   "cell_type": "code",
   "execution_count": null,
   "id": "bfc4464d-d694-4e59-b6b3-04dbbe5cccee",
   "metadata": {},
   "outputs": [],
   "source": []
  },
  {
   "cell_type": "markdown",
   "id": "da92fcbb-1cc7-4fbe-8b94-2da192a36e2e",
   "metadata": {},
   "source": [
    "Q.5.Write a python program to filter the numbers in a given list that are divisible by 2 and 3 using the filter function.\n",
    "[2,3,6,9,27,60,90,120,55,46]"
   ]
  },
  {
   "cell_type": "code",
   "execution_count": 49,
   "id": "e7243815-3f7b-4177-ac80-aa75c35cb35b",
   "metadata": {},
   "outputs": [],
   "source": [
    "l=[2, 3, 6, 9, 27, 60, 90, 120, 55, 46]"
   ]
  },
  {
   "cell_type": "code",
   "execution_count": 50,
   "id": "1d7c33b6-f04c-4055-8093-eba1b68bd928",
   "metadata": {},
   "outputs": [
    {
     "data": {
      "text/plain": [
       "[6, 60, 90, 120]"
      ]
     },
     "execution_count": 50,
     "metadata": {},
     "output_type": "execute_result"
    }
   ],
   "source": [
    "list(filter(lambda x: x%2 ==0 and x%3==0 ,l))"
   ]
  },
  {
   "cell_type": "code",
   "execution_count": null,
   "id": "b15dd0d9-fb6c-4e93-8326-842441ed520d",
   "metadata": {},
   "outputs": [],
   "source": []
  },
  {
   "cell_type": "markdown",
   "id": "e90cd101-81fa-4244-9551-3645b49d5335",
   "metadata": {},
   "source": [
    "Q.6.Write a python program to find palindromes in the given list of string lambda and filter function\n",
    "\n",
    "['python','php','aba','radar','level']"
   ]
  },
  {
   "cell_type": "code",
   "execution_count": 52,
   "id": "a9a62cb0-578c-4d5f-90ab-525f5a3f78b8",
   "metadata": {},
   "outputs": [],
   "source": [
    "l=['python', 'php', 'aba', 'radar', 'level']"
   ]
  },
  {
   "cell_type": "code",
   "execution_count": 54,
   "id": "54eb80da-513c-4c88-87ad-96440e15fe93",
   "metadata": {},
   "outputs": [
    {
     "data": {
      "text/plain": [
       "['php', 'aba', 'radar', 'level']"
      ]
     },
     "execution_count": 54,
     "metadata": {},
     "output_type": "execute_result"
    }
   ],
   "source": [
    "list(filter(lambda x:x[::-1]==x,l))"
   ]
  },
  {
   "cell_type": "code",
   "execution_count": null,
   "id": "9b5deaaa-07bc-4092-a7ef-9173c65730e9",
   "metadata": {},
   "outputs": [],
   "source": []
  }
 ],
 "metadata": {
  "kernelspec": {
   "display_name": "Python 3 (ipykernel)",
   "language": "python",
   "name": "python3"
  },
  "language_info": {
   "codemirror_mode": {
    "name": "ipython",
    "version": 3
   },
   "file_extension": ".py",
   "mimetype": "text/x-python",
   "name": "python",
   "nbconvert_exporter": "python",
   "pygments_lexer": "ipython3",
   "version": "3.10.8"
  }
 },
 "nbformat": 4,
 "nbformat_minor": 5
}
